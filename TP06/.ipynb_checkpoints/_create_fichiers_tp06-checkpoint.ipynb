{
 "cells": [
  {
   "cell_type": "markdown",
   "metadata": {},
   "source": [
    "* création de la liste des fichiers annexes (présents dans un répertoire `_fichiers_`"
   ]
  },
  {
   "cell_type": "code",
   "execution_count": 1,
   "metadata": {},
   "outputs": [],
   "source": [
    "import os"
   ]
  },
  {
   "cell_type": "code",
   "execution_count": 2,
   "metadata": {},
   "outputs": [
    {
     "name": "stdout",
     "output_type": "stream",
     "text": [
      "['alphabet_pixel.txt', 'fruits.txt', 'haiku.txt', 'lettreG.pbm', 'pomme.pbm']\n"
     ]
    }
   ],
   "source": [
    "for s in os.listdir():\n",
    "    if '_fichiers_' in s and os.path.isdir(s):\n",
    "        s0 = s\n",
    "        L = os.listdir(s0)\n",
    "print(L)\n",
    "f = open(s0 + '.txt', 'w')\n",
    "for file in L:\n",
    "    f.write(file + '\\n')\n",
    "f.close()"
   ]
  }
 ],
 "metadata": {
  "kernelspec": {
   "display_name": "Python 3 (ipykernel)",
   "language": "python",
   "name": "python3"
  },
  "language_info": {
   "codemirror_mode": {
    "name": "ipython",
    "version": 3
   },
   "file_extension": ".py",
   "mimetype": "text/x-python",
   "name": "python",
   "nbconvert_exporter": "python",
   "pygments_lexer": "ipython3",
   "version": "3.9.4"
  }
 },
 "nbformat": 4,
 "nbformat_minor": 2
}
